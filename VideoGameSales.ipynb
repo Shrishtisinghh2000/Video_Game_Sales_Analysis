{
 "cells": [
  {
   "cell_type": "code",
   "execution_count": 7,
   "id": "d28e40db",
   "metadata": {},
   "outputs": [
    {
     "name": "stdout",
     "output_type": "stream",
     "text": [
      "Dataset URL: https://www.kaggle.com/datasets/asaniczka/video-game-sales-2024\n",
      "License(s): ODC Attribution License (ODC-By)\n",
      "Downloading vgchartz-2024.csv.zip to C:\\Users\\shris\n",
      "\n"
     ]
    },
    {
     "name": "stderr",
     "output_type": "stream",
     "text": [
      "\n",
      "  0%|          | 0.00/1.90M [00:00<?, ?B/s]\n",
      " 53%|#####2    | 1.00M/1.90M [00:01<00:01, 702kB/s]\n",
      "100%|##########| 1.90M/1.90M [00:01<00:00, 1.32MB/s]\n",
      "100%|##########| 1.90M/1.90M [00:01<00:00, 1.16MB/s]\n"
     ]
    }
   ],
   "source": [
    "#import libraries\n",
    "import kaggle\n",
    "\n",
    "#Download dataset from kaggle API\n",
    "!kaggle datasets download asaniczka/video-game-sales-2024 -f vgchartz-2024.csv "
   ]
  },
  {
   "cell_type": "code",
   "execution_count": 63,
   "id": "dcf105ea",
   "metadata": {
    "scrolled": true
   },
   "outputs": [],
   "source": [
    "#Extract file from zip file\n",
    "import zipfile\n",
    "zip_ref = zipfile.ZipFile(r\"C:\\Data analysis\\vgchartz-2024.csv.zip\")\n",
    "zip_ref.extractall() #extract file to dir\n",
    "zip_ref.close()"
   ]
  },
  {
   "cell_type": "code",
   "execution_count": 64,
   "id": "06e16b75",
   "metadata": {},
   "outputs": [
    {
     "data": {
      "text/html": [
       "<div>\n",
       "<style scoped>\n",
       "    .dataframe tbody tr th:only-of-type {\n",
       "        vertical-align: middle;\n",
       "    }\n",
       "\n",
       "    .dataframe tbody tr th {\n",
       "        vertical-align: top;\n",
       "    }\n",
       "\n",
       "    .dataframe thead th {\n",
       "        text-align: right;\n",
       "    }\n",
       "</style>\n",
       "<table border=\"1\" class=\"dataframe\">\n",
       "  <thead>\n",
       "    <tr style=\"text-align: right;\">\n",
       "      <th></th>\n",
       "      <th>Img</th>\n",
       "      <th>Title</th>\n",
       "      <th>Console</th>\n",
       "      <th>Genre</th>\n",
       "      <th>Publisher</th>\n",
       "      <th>Developer</th>\n",
       "      <th>Critic Score</th>\n",
       "      <th>Total Sales</th>\n",
       "      <th>NA Sales</th>\n",
       "      <th>JP Sales</th>\n",
       "      <th>PAL Sales</th>\n",
       "      <th>Other Sales</th>\n",
       "      <th>Release Date</th>\n",
       "      <th>Last Update</th>\n",
       "    </tr>\n",
       "  </thead>\n",
       "  <tbody>\n",
       "    <tr>\n",
       "      <th>0</th>\n",
       "      <td>/games/boxart/full_6510540AmericaFrontccc.jpg</td>\n",
       "      <td>Grand Theft Auto V</td>\n",
       "      <td>PS3</td>\n",
       "      <td>Action</td>\n",
       "      <td>Rockstar Games</td>\n",
       "      <td>Rockstar North</td>\n",
       "      <td>9.4</td>\n",
       "      <td>$20.32 M</td>\n",
       "      <td>$6.37 M</td>\n",
       "      <td>$0.99 M</td>\n",
       "      <td>$9.85 M</td>\n",
       "      <td>$3.12 M</td>\n",
       "      <td>17-09-2013</td>\n",
       "      <td>NaN</td>\n",
       "    </tr>\n",
       "    <tr>\n",
       "      <th>1</th>\n",
       "      <td>/games/boxart/full_5563178AmericaFrontccc.jpg</td>\n",
       "      <td>Grand Theft Auto V</td>\n",
       "      <td>PS4</td>\n",
       "      <td>Action</td>\n",
       "      <td>Rockstar Games</td>\n",
       "      <td>Rockstar North</td>\n",
       "      <td>9.7</td>\n",
       "      <td>$19.39 M</td>\n",
       "      <td>$6.06 M</td>\n",
       "      <td>$0.60 M</td>\n",
       "      <td>$9.71 M</td>\n",
       "      <td>$3.02 M</td>\n",
       "      <td>18-11-2014</td>\n",
       "      <td>03-01-2018</td>\n",
       "    </tr>\n",
       "    <tr>\n",
       "      <th>2</th>\n",
       "      <td>/games/boxart/827563ccc.jpg</td>\n",
       "      <td>Grand Theft Auto: Vice City</td>\n",
       "      <td>PS2</td>\n",
       "      <td>Action</td>\n",
       "      <td>Rockstar Games</td>\n",
       "      <td>Rockstar North</td>\n",
       "      <td>9.6</td>\n",
       "      <td>$16.15 M</td>\n",
       "      <td>$8.41 M</td>\n",
       "      <td>$0.47 M</td>\n",
       "      <td>$5.49 M</td>\n",
       "      <td>$1.78 M</td>\n",
       "      <td>28-10-2002</td>\n",
       "      <td>NaN</td>\n",
       "    </tr>\n",
       "    <tr>\n",
       "      <th>3</th>\n",
       "      <td>/games/boxart/full_9218923AmericaFrontccc.jpg</td>\n",
       "      <td>Grand Theft Auto V</td>\n",
       "      <td>X360</td>\n",
       "      <td>Action</td>\n",
       "      <td>Rockstar Games</td>\n",
       "      <td>Rockstar North</td>\n",
       "      <td>NaN</td>\n",
       "      <td>$15.86 M</td>\n",
       "      <td>$9.06 M</td>\n",
       "      <td>$0.06 M</td>\n",
       "      <td>$5.33 M</td>\n",
       "      <td>$1.42 M</td>\n",
       "      <td>17-09-2013</td>\n",
       "      <td>NaN</td>\n",
       "    </tr>\n",
       "    <tr>\n",
       "      <th>4</th>\n",
       "      <td>/games/boxart/full_4990510AmericaFrontccc.jpg</td>\n",
       "      <td>Call of Duty: Black Ops 3</td>\n",
       "      <td>PS4</td>\n",
       "      <td>Shooter</td>\n",
       "      <td>Activision</td>\n",
       "      <td>Treyarch</td>\n",
       "      <td>8.1</td>\n",
       "      <td>$15.09 M</td>\n",
       "      <td>$6.18 M</td>\n",
       "      <td>$0.41 M</td>\n",
       "      <td>$6.05 M</td>\n",
       "      <td>$2.44 M</td>\n",
       "      <td>06-11-2015</td>\n",
       "      <td>14-01-2018</td>\n",
       "    </tr>\n",
       "  </tbody>\n",
       "</table>\n",
       "</div>"
      ],
      "text/plain": [
       "                                             Img                        Title  \\\n",
       "0  /games/boxart/full_6510540AmericaFrontccc.jpg           Grand Theft Auto V   \n",
       "1  /games/boxart/full_5563178AmericaFrontccc.jpg           Grand Theft Auto V   \n",
       "2                    /games/boxart/827563ccc.jpg  Grand Theft Auto: Vice City   \n",
       "3  /games/boxart/full_9218923AmericaFrontccc.jpg           Grand Theft Auto V   \n",
       "4  /games/boxart/full_4990510AmericaFrontccc.jpg    Call of Duty: Black Ops 3   \n",
       "\n",
       "  Console    Genre       Publisher       Developer  Critic Score Total Sales  \\\n",
       "0     PS3   Action  Rockstar Games  Rockstar North           9.4    $20.32 M   \n",
       "1     PS4   Action  Rockstar Games  Rockstar North           9.7    $19.39 M   \n",
       "2     PS2   Action  Rockstar Games  Rockstar North           9.6    $16.15 M   \n",
       "3    X360   Action  Rockstar Games  Rockstar North           NaN    $15.86 M   \n",
       "4     PS4  Shooter      Activision        Treyarch           8.1    $15.09 M   \n",
       "\n",
       "  NA Sales JP Sales PAL Sales Other Sales Release Date Last Update  \n",
       "0  $6.37 M  $0.99 M   $9.85 M     $3.12 M   17-09-2013         NaN  \n",
       "1  $6.06 M  $0.60 M   $9.71 M     $3.02 M   18-11-2014  03-01-2018  \n",
       "2  $8.41 M  $0.47 M   $5.49 M     $1.78 M   28-10-2002         NaN  \n",
       "3  $9.06 M  $0.06 M   $5.33 M     $1.42 M   17-09-2013         NaN  \n",
       "4  $6.18 M  $0.41 M   $6.05 M     $2.44 M   06-11-2015  14-01-2018  "
      ]
     },
     "execution_count": 64,
     "metadata": {},
     "output_type": "execute_result"
    }
   ],
   "source": [
    "#read data from file & handle null values\n",
    "import pandas as pd\n",
    "df = pd.read_csv(r\"C:\\Data analysis\\vgchartz-2024.csv.zip\")\n",
    "df.head(5)"
   ]
  },
  {
   "cell_type": "code",
   "execution_count": 65,
   "id": "81da61bf",
   "metadata": {},
   "outputs": [
    {
     "data": {
      "text/plain": [
       "Index(['img', 'title', 'console', 'genre', 'publisher', 'developer',\n",
       "       'critic_score', 'total_sales', 'na_sales', 'jp_sales', 'pal_sales',\n",
       "       'other_sales', 'release_date', 'last_update'],\n",
       "      dtype='object')"
      ]
     },
     "execution_count": 65,
     "metadata": {},
     "output_type": "execute_result"
    }
   ],
   "source": [
    "#rename column names\n",
    "df.columns = df.columns.str.lower()\n",
    "df.columns = df.columns.str.replace(' ', '_')\n",
    "df.columns"
   ]
  },
  {
   "cell_type": "code",
   "execution_count": 66,
   "id": "dc70c130",
   "metadata": {},
   "outputs": [
    {
     "data": {
      "text/plain": [
       "img              object\n",
       "title            object\n",
       "console          object\n",
       "genre            object\n",
       "publisher        object\n",
       "developer        object\n",
       "critic_score    float64\n",
       "total_sales      object\n",
       "na_sales         object\n",
       "jp_sales         object\n",
       "pal_sales        object\n",
       "other_sales      object\n",
       "release_date     object\n",
       "last_update      object\n",
       "dtype: object"
      ]
     },
     "execution_count": 66,
     "metadata": {},
     "output_type": "execute_result"
    }
   ],
   "source": [
    "df.dtypes"
   ]
  },
  {
   "cell_type": "code",
   "execution_count": 67,
   "id": "5a4fb9b0",
   "metadata": {},
   "outputs": [
    {
     "name": "stdout",
     "output_type": "stream",
     "text": [
      "                                  title console         genre  \\\n",
      "0                    Grand Theft Auto V     PS3        Action   \n",
      "1                    Grand Theft Auto V     PS4        Action   \n",
      "2           Grand Theft Auto: Vice City     PS2        Action   \n",
      "3                    Grand Theft Auto V    X360        Action   \n",
      "4             Call of Duty: Black Ops 3     PS4       Shooter   \n",
      "...                                 ...     ...           ...   \n",
      "64011             XBlaze Lost: Memories      PC  Visual Novel   \n",
      "64012                      Yoru, Tomosu     PS4  Visual Novel   \n",
      "64013                      Yoru, Tomosu      NS  Visual Novel   \n",
      "64014   Yunohana SpRING! ~Mellow Times~      NS  Visual Novel   \n",
      "64015  Yurukill: The Calumniation Games     PS4  Visual Novel   \n",
      "\n",
      "                  publisher             developer  critic_score total_sales  \\\n",
      "0            Rockstar Games        Rockstar North           9.4    $20.32 M   \n",
      "1            Rockstar Games        Rockstar North           9.7    $19.39 M   \n",
      "2            Rockstar Games        Rockstar North           9.6    $16.15 M   \n",
      "3            Rockstar Games        Rockstar North           NaN    $15.86 M   \n",
      "4                Activision              Treyarch           8.1    $15.09 M   \n",
      "...                     ...                   ...           ...         ...   \n",
      "64011           Aksys Games      Arc System Works           NaN         NaN   \n",
      "64012  Nippon Ichi Software  Nippon Ichi Software           NaN         NaN   \n",
      "64013  Nippon Ichi Software  Nippon Ichi Software           NaN         NaN   \n",
      "64014          Idea Factory               Otomate           NaN         NaN   \n",
      "64015               Unknown            G.rev Ltd.           NaN         NaN   \n",
      "\n",
      "      na_sales jp_sales pal_sales other_sales release_date  \n",
      "0      $6.37 M  $0.99 M   $9.85 M     $3.12 M   17-09-2013  \n",
      "1      $6.06 M  $0.60 M   $9.71 M     $3.02 M   18-11-2014  \n",
      "2      $8.41 M  $0.47 M   $5.49 M     $1.78 M   28-10-2002  \n",
      "3      $9.06 M  $0.06 M   $5.33 M     $1.42 M   17-09-2013  \n",
      "4      $6.18 M  $0.41 M   $6.05 M     $2.44 M   06-11-2015  \n",
      "...        ...      ...       ...         ...          ...  \n",
      "64011      NaN      NaN       NaN         NaN   11-08-2016  \n",
      "64012      NaN      NaN       NaN         NaN   30-07-2020  \n",
      "64013      NaN      NaN       NaN         NaN   30-07-2020  \n",
      "64014      NaN      NaN       NaN         NaN   28-02-2019  \n",
      "64015      NaN      NaN       NaN         NaN          NaN  \n",
      "\n",
      "[64016 rows x 12 columns]\n"
     ]
    }
   ],
   "source": [
    "#drop img and last_update\n",
    "df = df.drop(columns=['img', 'last_update'])  \n",
    " \n",
    "print(df)"
   ]
  },
  {
   "cell_type": "code",
   "execution_count": 68,
   "id": "e71f5fa3",
   "metadata": {},
   "outputs": [
    {
     "data": {
      "text/plain": [
       "title                   object\n",
       "console                 object\n",
       "genre                   object\n",
       "publisher               object\n",
       "developer               object\n",
       "critic_score           float64\n",
       "total_sales             object\n",
       "na_sales                object\n",
       "jp_sales                object\n",
       "pal_sales               object\n",
       "other_sales             object\n",
       "release_date    datetime64[ns]\n",
       "dtype: object"
      ]
     },
     "execution_count": 68,
     "metadata": {},
     "output_type": "execute_result"
    }
   ],
   "source": [
    "#convert release date from object datat type to datetime\n",
    "df['release_date'] = pd.to_datetime(df['release_date'], format=\"%d-%m-%Y\")\n",
    "df.dtypes  "
   ]
  },
  {
   "cell_type": "code",
   "execution_count": 71,
   "id": "f67bb0ce",
   "metadata": {},
   "outputs": [],
   "source": [
    "#load the data into SQL server\n",
    "import sqlalchemy as sal\n",
    "engine = sal.create_engine('mssql://ASUS_TUF_GAMING\\SQLEXPRESS/master?driver=ODBC+DRIVER+17+FOR+SQL+SERVER')\n",
    "conn = engine.connect()"
   ]
  },
  {
   "cell_type": "code",
   "execution_count": 72,
   "id": "0448e57b",
   "metadata": {},
   "outputs": [
    {
     "data": {
      "text/plain": [
       "-1"
      ]
     },
     "execution_count": 72,
     "metadata": {},
     "output_type": "execute_result"
    }
   ],
   "source": [
    "df.to_sql('df_title', con=conn , index=False, if_exists = 'replace')"
   ]
  },
  {
   "cell_type": "code",
   "execution_count": null,
   "id": "8aa6e2b6",
   "metadata": {},
   "outputs": [],
   "source": []
  }
 ],
 "metadata": {
  "kernelspec": {
   "display_name": "Python 3 (ipykernel)",
   "language": "python",
   "name": "python3"
  },
  "language_info": {
   "codemirror_mode": {
    "name": "ipython",
    "version": 3
   },
   "file_extension": ".py",
   "mimetype": "text/x-python",
   "name": "python",
   "nbconvert_exporter": "python",
   "pygments_lexer": "ipython3",
   "version": "3.11.5"
  }
 },
 "nbformat": 4,
 "nbformat_minor": 5
}
